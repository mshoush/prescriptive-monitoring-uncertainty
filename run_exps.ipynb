{
 "cells": [
  {
   "cell_type": "code",
   "execution_count": 10,
   "id": "e3922e1a",
   "metadata": {},
   "outputs": [],
   "source": [
    "# !pip install Catboost\n",
    "# !pip install hyperopt"
   ]
  },
  {
   "cell_type": "code",
   "execution_count": 12,
   "id": "12f5a146",
   "metadata": {
    "scrolled": true
   },
   "outputs": [
    {
     "name": "stdout",
     "output_type": "stream",
     "text": [
      "Collecting Catboost\n",
      "  Downloading catboost-1.0.4-cp39-none-manylinux1_x86_64.whl (76.2 MB)\n",
      "\u001b[K     |████████████████████████████████| 76.2 MB 3.3 MB/s eta 0:00:01\n",
      "\u001b[?25hRequirement already satisfied: six in /home/mshoush/anaconda3/envs/phd/lib/python3.9/site-packages (from Catboost) (1.16.0)\n",
      "Requirement already satisfied: numpy>=1.16.0 in /home/mshoush/anaconda3/envs/phd/lib/python3.9/site-packages (from Catboost) (1.22.2)\n",
      "Requirement already satisfied: matplotlib in /home/mshoush/anaconda3/envs/phd/lib/python3.9/site-packages (from Catboost) (3.5.1)\n",
      "Requirement already satisfied: pandas>=0.24.0 in /home/mshoush/anaconda3/envs/phd/lib/python3.9/site-packages (from Catboost) (1.4.0)\n",
      "Collecting graphviz\n",
      "  Downloading graphviz-0.19.1-py3-none-any.whl (46 kB)\n",
      "\u001b[K     |████████████████████████████████| 46 kB 1.9 MB/s eta 0:00:01\n",
      "\u001b[?25hCollecting plotly\n",
      "  Downloading plotly-5.6.0-py2.py3-none-any.whl (27.7 MB)\n",
      "\u001b[K     |████████████████████████████████| 27.7 MB 76 kB/s  eta 0:00:01\n",
      "\u001b[?25hRequirement already satisfied: scipy in /home/mshoush/anaconda3/envs/phd/lib/python3.9/site-packages (from Catboost) (1.8.0)\n",
      "Requirement already satisfied: python-dateutil>=2.8.1 in /home/mshoush/anaconda3/envs/phd/lib/python3.9/site-packages (from pandas>=0.24.0->Catboost) (2.8.2)\n",
      "Requirement already satisfied: pytz>=2020.1 in /home/mshoush/anaconda3/envs/phd/lib/python3.9/site-packages (from pandas>=0.24.0->Catboost) (2021.3)\n",
      "Requirement already satisfied: packaging>=20.0 in /home/mshoush/anaconda3/envs/phd/lib/python3.9/site-packages (from matplotlib->Catboost) (21.3)\n",
      "Requirement already satisfied: fonttools>=4.22.0 in /home/mshoush/anaconda3/envs/phd/lib/python3.9/site-packages (from matplotlib->Catboost) (4.29.1)\n",
      "Requirement already satisfied: pillow>=6.2.0 in /home/mshoush/anaconda3/envs/phd/lib/python3.9/site-packages (from matplotlib->Catboost) (9.0.1)\n",
      "Requirement already satisfied: cycler>=0.10 in /home/mshoush/anaconda3/envs/phd/lib/python3.9/site-packages (from matplotlib->Catboost) (0.11.0)\n",
      "Requirement already satisfied: kiwisolver>=1.0.1 in /home/mshoush/anaconda3/envs/phd/lib/python3.9/site-packages (from matplotlib->Catboost) (1.3.2)\n",
      "Requirement already satisfied: pyparsing>=2.2.1 in /home/mshoush/anaconda3/envs/phd/lib/python3.9/site-packages (from matplotlib->Catboost) (3.0.4)\n",
      "Collecting tenacity>=6.2.0\n",
      "  Downloading tenacity-8.0.1-py3-none-any.whl (24 kB)\n",
      "Installing collected packages: tenacity, plotly, graphviz, Catboost\n",
      "Successfully installed Catboost-1.0.4 graphviz-0.19.1 plotly-5.6.0 tenacity-8.0.1\n"
     ]
    }
   ],
   "source": [
    "#!pip install Catboost"
   ]
  },
  {
   "cell_type": "code",
   "execution_count": 1,
   "id": "9b24342c",
   "metadata": {},
   "outputs": [],
   "source": [
    "%load_ext autoreload\n",
    "%autoreload 2\n",
    "%matplotlib inline\n",
    "import matplotlib.pyplot as plt\n",
    "import pandas as pd\n",
    "from sys import argv\n",
    "\n"
   ]
  },
  {
   "cell_type": "markdown",
   "id": "fcc865d2",
   "metadata": {},
   "source": [
    "# 1. prepare data"
   ]
  },
  {
   "cell_type": "code",
   "execution_count": 20,
   "id": "8600e721",
   "metadata": {
    "scrolled": true
   },
   "outputs": [
    {
     "name": "stdout",
     "output_type": "stream",
     "text": [
      "The autoreload extension is already loaded. To reload it, use:\n",
      "  %reload_ext autoreload\n"
     ]
    }
   ],
   "source": [
    "# prepare data\n",
    "%run -i './prepare_data/BPIC2017_preparation_outcom_and_treatment.py' \"./prepare_data/bpic2017.pkl\"\n"
   ]
  },
  {
   "cell_type": "markdown",
   "id": "cba78b07",
   "metadata": {},
   "source": [
    "# 2. Optimize predictive model params"
   ]
  },
  {
   "cell_type": "code",
   "execution_count": 2,
   "id": "37b30e34",
   "metadata": {},
   "outputs": [
    {
     "name": "stdout",
     "output_type": "stream",
     "text": [
      "/home/mshoush/2ndyear_1stterm/BPM22_paper/code\r\n"
     ]
    }
   ],
   "source": [
    "!pwd"
   ]
  },
  {
   "cell_type": "code",
   "execution_count": 5,
   "id": "fd6bf65c",
   "metadata": {
    "scrolled": true
   },
   "outputs": [
    {
     "name": "stdout",
     "output_type": "stream",
     "text": [
      "Preparing data...\n",
      "bpic2017_accepted\n"
     ]
    },
    {
     "name": "stderr",
     "output_type": "stream",
     "text": [
      "/home/mshoush/2ndyear_1stterm/BPM22_paper/code/predictive_model/transformers/AggregateTransformer.py:44: SettingWithCopyWarning: \n",
      "A value is trying to be set on a copy of a slice from a DataFrame.\n",
      "Try using .loc[row_indexer,col_indexer] = value instead\n",
      "\n",
      "See the caveats in the documentation: https://pandas.pydata.org/pandas-docs/stable/user_guide/indexing.html#returning-a-view-versus-a-copy\n",
      "  dt_transformed[self.case_id_col] = X[self.case_id_col]\n"
     ]
    },
    {
     "name": "stdout",
     "output_type": "stream",
     "text": [
      "Optimizing parameters...\n",
      "<hyperopt.base.Trials object at 0x7ff5527869d0>\n",
      "Read encoded data...                                 \n",
      "0                                                    \n",
      "Trial 0 out of 1                                     \n",
      "Preds: [0.68668807 0.98224401 0.97101459 ... 0.99715356 0.98014087 0.40272972]\n",
      "Preds: [7.61839517e-01 2.11335333e-01 2.51636108e-01 ... 4.50776759e-01\n",
      " 3.67723429e-01 2.45397802e-04]\n",
      "Preds: [3.96099482e-01 4.16910791e-08 4.48491772e-08 ... 9.91506414e-01\n",
      " 9.86666406e-01 9.88826791e-01]\n",
      "100%|██████████| 1/1 [36:55<00:00, 2215.98s/trial, best loss: -0.7919190330089586]\n"
     ]
    }
   ],
   "source": [
    "%run -i './predictive_model/optimize_params_catboost.py' \"bpic2017_accepted\" \"params_dir_ctb\" 1"
   ]
  },
  {
   "cell_type": "markdown",
   "id": "9c2dba10",
   "metadata": {},
   "source": [
    "# 3. Get predictions and uncertainties"
   ]
  },
  {
   "cell_type": "code",
   "execution_count": null,
   "id": "ff1fbf85",
   "metadata": {},
   "outputs": [
    {
     "name": "stdout",
     "output_type": "stream",
     "text": [
      "Read input...\n",
      "Ensemble size is: 10\n",
      "Preparing data...\n",
      "bpic2017_accepted\n"
     ]
    }
   ],
   "source": [
    "# params: {dataset name, optimized param dir, results dir, ensemble size}\n",
    "%run -i './predictive_model/get_catboost_pred_uncer.py' \"bpic2017_accepted\" \"params_dir_ctb\" \"results_dir_ctb\" 10"
   ]
  },
  {
   "cell_type": "markdown",
   "id": "6e515b57",
   "metadata": {},
   "source": [
    "# 4. Estimate causal effect (CATE)"
   ]
  },
  {
   "cell_type": "code",
   "execution_count": 2,
   "id": "9e502329",
   "metadata": {
    "scrolled": true
   },
   "outputs": [],
   "source": [
    "#!pip install econml"
   ]
  },
  {
   "cell_type": "code",
   "execution_count": 1,
   "id": "1765fd86",
   "metadata": {
    "scrolled": true
   },
   "outputs": [],
   "source": [
    "#!pip install numba==0.53"
   ]
  },
  {
   "cell_type": "code",
   "execution_count": null,
   "id": "6e36d763",
   "metadata": {
    "scrolled": true
   },
   "outputs": [
    {
     "name": "stdout",
     "output_type": "stream",
     "text": [
      "Read input...\n",
      "Preparing data...\n",
      "bpic2017_accepted\n",
      "Start encoding...\n"
     ]
    }
   ],
   "source": [
    "# params: {dataset name, optimized param dir, results dir, ensemble size}\n",
    "%run -i './prescriptive_orf/orf.py' \"bpic2017_accepted\"  \"results_dir_orf\""
   ]
  },
  {
   "cell_type": "markdown",
   "id": "f0d4e462",
   "metadata": {},
   "source": [
    "# 5. Filtering_Ranking_ResourceAllocator"
   ]
  },
  {
   "cell_type": "code",
   "execution_count": 5,
   "id": "b3d757f7",
   "metadata": {},
   "outputs": [
    {
     "name": "stdout",
     "output_type": "stream",
     "text": [
      "\n",
      "==================, exp with: proba_cate_uncer, dist: fixed, and resources: 10 ============\n",
      "\n",
      "get_max_gain: 4.039664872685056\n",
      "max_gain: 4.039664872685056\n",
      "nr_res: [1, 2, 3, 4, 5, 6, 7, 8, 9, 10]\n",
      "allocate res: 1\n",
      "Treat now\n",
      "\n",
      "Case is treated: Application_867435788, with gain: ['Application_867435788', 4.039664872685056, 4, 'W_Complete application', -2.7637838458931183, 1.2758810267919376, -1.4879028191011807, -0.047190315404375904]\n",
      "\n",
      "Apply treatment\n",
      "resource number: 1 blocked\n",
      "strat timer for resource number: 1\n",
      "allocateRes func has returned\n",
      "\n",
      "\n",
      "=== case is treated before, Done==\n",
      "\n",
      "get_max_gain: 3.705323112510186\n",
      "get_max_gain: 4.395992424601326\n",
      "get_max_gain: 4.597029150278382\n",
      "get_max_gain: 7.433391214114595\n",
      "get_max_gain: 5.602451070256812\n",
      "get_max_gain: 6.029640145037909\n",
      "get_max_gain: 7.509659276450217\n",
      "max_gain: 7.509659276450217\n",
      "nr_res: [2, 3, 4, 5, 6, 7, 8, 9, 10]\n",
      "allocate res: 2\n",
      "Treat now\n",
      "\n",
      "Case is treated: Application_307362226, with gain: ['Application_307362226', 7.509659276450217, 6, 'O_Create Offer', -4.464424360770048, 3.045234915680169, -1.419189445089879, -0.2952515143685997]\n",
      "\n",
      "Apply treatment\n",
      "resource number: 2 blocked\n",
      "strat timer for resource number: 2\n",
      "allocateRes func has returned\n",
      "\n",
      "\n",
      "=== case is treated before, Done==\n",
      "\n",
      "\n",
      "=== case is treated before, Done==\n",
      "\n",
      "\n",
      "=== case is treated before, Done==\n",
      "\n",
      "\n",
      "=== case is treated before, Done==\n",
      "\n",
      "\n",
      "=== case is treated before, Done==\n",
      "\n",
      "\n",
      "=== case is treated before, Done==\n",
      "\n",
      "\n",
      "=== case is treated before, Done==\n",
      "\n",
      "get_max_gain: 3.9967989024154624\n",
      "get_max_gain: 3.596986738203137\n",
      "get_max_gain: 10.195353005969562\n",
      "max_gain: 10.195353005969562\n",
      "nr_res: [3, 4, 5, 6, 7, 8, 9, 10]\n",
      "allocate res: 3\n",
      "Treat now\n",
      "\n",
      "Case is treated: Application_1858211642, with gain: ['Application_1858211642', 10.195353005969562, 6, 'O_Create Offer', -6.305779920991994, 3.8895730849775667, -2.4162068360144273, -0.32274846866891777]\n",
      "\n",
      "Apply treatment\n",
      "resource number: 3 blocked\n",
      "strat timer for resource number: 3\n",
      "allocateRes func has returned\n",
      "\n",
      "\n",
      "=== case is treated before, Done==\n",
      "\n",
      "\n",
      "=== case is treated before, Done==\n",
      "\n",
      "\n",
      "=== case is treated before, Done==\n",
      "\n",
      "\n",
      "=== case is treated before, Done==\n",
      "\n",
      "\n",
      "=== case is treated before, Done==\n",
      "\n",
      "\n",
      "=== case is treated before, Done==\n",
      "\n",
      "get_max_gain: 6.548125211507919\n",
      "max_gain: 6.548125211507919\n",
      "nr_res: [4, 5, 6, 7, 8, 9, 10]\n",
      "allocate res: 4\n",
      "Treat now\n",
      "\n",
      "Case is treated: Application_453987424, with gain: ['Application_453987424', 6.548125211507919, 6, 'O_Create Offer', -4.480607368763984, 2.0675178427439356, -2.4130895260200482, -0.3053856243139821]\n",
      "\n",
      "Apply treatment\n",
      "resource number: 4 blocked\n",
      "strat timer for resource number: 4\n",
      "allocateRes func has returned\n",
      "\n",
      "\n",
      "=== case is treated before, Done==\n",
      "\n",
      "\n",
      "=== case is treated before, Done==\n",
      "\n",
      "\n",
      "=== case is treated before, Done==\n",
      "\n",
      "\n",
      "=== case is treated before, Done==\n",
      "\n",
      "\n",
      "=== case is treated before, Done==\n",
      "\n",
      "\n",
      "=== case is treated before, Done==\n",
      "\n",
      "\n",
      "=== case is treated before, Done==\n",
      "\n",
      "\n",
      "=== case is treated before, Done==\n",
      "\n",
      "\n",
      "=== case is treated before, Done==\n",
      "\n",
      "\n",
      "=== case is treated before, Done==\n",
      "\n",
      "\n",
      "=== case is treated before, Done==\n",
      "\n"
     ]
    },
    {
     "ename": "KeyboardInterrupt",
     "evalue": "",
     "output_type": "error",
     "traceback": [
      "\u001b[0;31m---------------------------------------------------------------------------\u001b[0m",
      "\u001b[0;31mKeyboardInterrupt\u001b[0m                         Traceback (most recent call last)",
      "\u001b[0;32m~/2ndyear_1stterm/BPM22_paper/code/testing_phase_filtering_ranking_resource/approach.py\u001b[0m in \u001b[0;36m<module>\u001b[0;34m\u001b[0m\n\u001b[1;32m    500\u001b[0m \u001b[0;34m\u001b[0m\u001b[0m\n\u001b[1;32m    501\u001b[0m         \u001b[0;32melse\u001b[0m\u001b[0;34m:\u001b[0m\u001b[0;34m\u001b[0m\u001b[0;34m\u001b[0m\u001b[0m\n\u001b[0;32m--> 502\u001b[0;31m             \u001b[0mtemp_df\u001b[0m \u001b[0;34m=\u001b[0m \u001b[0mtemp_df\u001b[0m\u001b[0;34m.\u001b[0m\u001b[0mappend\u001b[0m\u001b[0;34m(\u001b[0m\u001b[0mpd\u001b[0m\u001b[0;34m.\u001b[0m\u001b[0mSeries\u001b[0m\u001b[0;34m(\u001b[0m\u001b[0mrow\u001b[0m\u001b[0;34m,\u001b[0m \u001b[0mindex\u001b[0m\u001b[0;34m=\u001b[0m\u001b[0mres\u001b[0m\u001b[0;34m.\u001b[0m\u001b[0mcolumns\u001b[0m\u001b[0;34m)\u001b[0m\u001b[0;34m,\u001b[0m \u001b[0mignore_index\u001b[0m \u001b[0;34m=\u001b[0m \u001b[0;32mTrue\u001b[0m\u001b[0;34m)\u001b[0m\u001b[0;34m\u001b[0m\u001b[0;34m\u001b[0m\u001b[0m\n\u001b[0m\u001b[1;32m    503\u001b[0m             \u001b[0me_df\u001b[0m \u001b[0;34m=\u001b[0m \u001b[0mpd\u001b[0m\u001b[0;34m.\u001b[0m\u001b[0mconcat\u001b[0m\u001b[0;34m(\u001b[0m\u001b[0;34m[\u001b[0m\u001b[0me_df\u001b[0m\u001b[0;34m,\u001b[0m \u001b[0mtemp_df\u001b[0m\u001b[0;34m]\u001b[0m\u001b[0;34m,\u001b[0m \u001b[0maxis\u001b[0m\u001b[0;34m=\u001b[0m\u001b[0;36m0\u001b[0m\u001b[0;34m)\u001b[0m\u001b[0;34m.\u001b[0m\u001b[0mdrop_duplicates\u001b[0m\u001b[0;34m(\u001b[0m\u001b[0;34m)\u001b[0m\u001b[0;34m\u001b[0m\u001b[0;34m\u001b[0m\u001b[0m\n\u001b[1;32m    504\u001b[0m \u001b[0;34m\u001b[0m\u001b[0m\n",
      "\u001b[0;32m~/anaconda3/envs/phd/lib/python3.9/site-packages/pandas/core/frame.py\u001b[0m in \u001b[0;36mappend\u001b[0;34m(self, other, ignore_index, verify_integrity, sort)\u001b[0m\n\u001b[1;32m   9018\u001b[0m             \u001b[0;34m\"Use pandas.concat instead.\"\u001b[0m\u001b[0;34m,\u001b[0m\u001b[0;34m\u001b[0m\u001b[0;34m\u001b[0m\u001b[0m\n\u001b[1;32m   9019\u001b[0m             \u001b[0mFutureWarning\u001b[0m\u001b[0;34m,\u001b[0m\u001b[0;34m\u001b[0m\u001b[0;34m\u001b[0m\u001b[0m\n\u001b[0;32m-> 9020\u001b[0;31m             \u001b[0mstacklevel\u001b[0m\u001b[0;34m=\u001b[0m\u001b[0mfind_stack_level\u001b[0m\u001b[0;34m(\u001b[0m\u001b[0;34m)\u001b[0m\u001b[0;34m,\u001b[0m\u001b[0;34m\u001b[0m\u001b[0;34m\u001b[0m\u001b[0m\n\u001b[0m\u001b[1;32m   9021\u001b[0m         )\n\u001b[1;32m   9022\u001b[0m \u001b[0;34m\u001b[0m\u001b[0m\n",
      "\u001b[0;32m~/anaconda3/envs/phd/lib/python3.9/site-packages/pandas/util/_exceptions.py\u001b[0m in \u001b[0;36mfind_stack_level\u001b[0;34m()\u001b[0m\n\u001b[1;32m     30\u001b[0m     \u001b[0;34m(\u001b[0m\u001b[0mtests\u001b[0m \u001b[0mnotwithstanding\u001b[0m\u001b[0;34m)\u001b[0m\u001b[0;34m.\u001b[0m\u001b[0;34m\u001b[0m\u001b[0;34m\u001b[0m\u001b[0m\n\u001b[1;32m     31\u001b[0m     \"\"\"\n\u001b[0;32m---> 32\u001b[0;31m     \u001b[0mstack\u001b[0m \u001b[0;34m=\u001b[0m \u001b[0minspect\u001b[0m\u001b[0;34m.\u001b[0m\u001b[0mstack\u001b[0m\u001b[0;34m(\u001b[0m\u001b[0;34m)\u001b[0m\u001b[0;34m\u001b[0m\u001b[0;34m\u001b[0m\u001b[0m\n\u001b[0m\u001b[1;32m     33\u001b[0m \u001b[0;34m\u001b[0m\u001b[0m\n\u001b[1;32m     34\u001b[0m     \u001b[0;32mimport\u001b[0m \u001b[0mpandas\u001b[0m \u001b[0;32mas\u001b[0m \u001b[0mpd\u001b[0m\u001b[0;34m\u001b[0m\u001b[0;34m\u001b[0m\u001b[0m\n",
      "\u001b[0;32m~/anaconda3/envs/phd/lib/python3.9/inspect.py\u001b[0m in \u001b[0;36mstack\u001b[0;34m(context)\u001b[0m\n\u001b[1;32m   1550\u001b[0m \u001b[0;32mdef\u001b[0m \u001b[0mstack\u001b[0m\u001b[0;34m(\u001b[0m\u001b[0mcontext\u001b[0m\u001b[0;34m=\u001b[0m\u001b[0;36m1\u001b[0m\u001b[0;34m)\u001b[0m\u001b[0;34m:\u001b[0m\u001b[0;34m\u001b[0m\u001b[0;34m\u001b[0m\u001b[0m\n\u001b[1;32m   1551\u001b[0m     \u001b[0;34m\"\"\"Return a list of records for the stack above the caller's frame.\"\"\"\u001b[0m\u001b[0;34m\u001b[0m\u001b[0;34m\u001b[0m\u001b[0m\n\u001b[0;32m-> 1552\u001b[0;31m     \u001b[0;32mreturn\u001b[0m \u001b[0mgetouterframes\u001b[0m\u001b[0;34m(\u001b[0m\u001b[0msys\u001b[0m\u001b[0;34m.\u001b[0m\u001b[0m_getframe\u001b[0m\u001b[0;34m(\u001b[0m\u001b[0;36m1\u001b[0m\u001b[0;34m)\u001b[0m\u001b[0;34m,\u001b[0m \u001b[0mcontext\u001b[0m\u001b[0;34m)\u001b[0m\u001b[0;34m\u001b[0m\u001b[0;34m\u001b[0m\u001b[0m\n\u001b[0m\u001b[1;32m   1553\u001b[0m \u001b[0;34m\u001b[0m\u001b[0m\n\u001b[1;32m   1554\u001b[0m \u001b[0;32mdef\u001b[0m \u001b[0mtrace\u001b[0m\u001b[0;34m(\u001b[0m\u001b[0mcontext\u001b[0m\u001b[0;34m=\u001b[0m\u001b[0;36m1\u001b[0m\u001b[0;34m)\u001b[0m\u001b[0;34m:\u001b[0m\u001b[0;34m\u001b[0m\u001b[0;34m\u001b[0m\u001b[0m\n",
      "\u001b[0;32m~/anaconda3/envs/phd/lib/python3.9/inspect.py\u001b[0m in \u001b[0;36mgetouterframes\u001b[0;34m(frame, context)\u001b[0m\n\u001b[1;32m   1527\u001b[0m     \u001b[0mframelist\u001b[0m \u001b[0;34m=\u001b[0m \u001b[0;34m[\u001b[0m\u001b[0;34m]\u001b[0m\u001b[0;34m\u001b[0m\u001b[0;34m\u001b[0m\u001b[0m\n\u001b[1;32m   1528\u001b[0m     \u001b[0;32mwhile\u001b[0m \u001b[0mframe\u001b[0m\u001b[0;34m:\u001b[0m\u001b[0;34m\u001b[0m\u001b[0;34m\u001b[0m\u001b[0m\n\u001b[0;32m-> 1529\u001b[0;31m         \u001b[0mframeinfo\u001b[0m \u001b[0;34m=\u001b[0m \u001b[0;34m(\u001b[0m\u001b[0mframe\u001b[0m\u001b[0;34m,\u001b[0m\u001b[0;34m)\u001b[0m \u001b[0;34m+\u001b[0m \u001b[0mgetframeinfo\u001b[0m\u001b[0;34m(\u001b[0m\u001b[0mframe\u001b[0m\u001b[0;34m,\u001b[0m \u001b[0mcontext\u001b[0m\u001b[0;34m)\u001b[0m\u001b[0;34m\u001b[0m\u001b[0;34m\u001b[0m\u001b[0m\n\u001b[0m\u001b[1;32m   1530\u001b[0m         \u001b[0mframelist\u001b[0m\u001b[0;34m.\u001b[0m\u001b[0mappend\u001b[0m\u001b[0;34m(\u001b[0m\u001b[0mFrameInfo\u001b[0m\u001b[0;34m(\u001b[0m\u001b[0;34m*\u001b[0m\u001b[0mframeinfo\u001b[0m\u001b[0;34m)\u001b[0m\u001b[0;34m)\u001b[0m\u001b[0;34m\u001b[0m\u001b[0;34m\u001b[0m\u001b[0m\n\u001b[1;32m   1531\u001b[0m         \u001b[0mframe\u001b[0m \u001b[0;34m=\u001b[0m \u001b[0mframe\u001b[0m\u001b[0;34m.\u001b[0m\u001b[0mf_back\u001b[0m\u001b[0;34m\u001b[0m\u001b[0;34m\u001b[0m\u001b[0m\n",
      "\u001b[0;32m~/anaconda3/envs/phd/lib/python3.9/inspect.py\u001b[0m in \u001b[0;36mgetframeinfo\u001b[0;34m(frame, context)\u001b[0m\n\u001b[1;32m   1501\u001b[0m         \u001b[0mstart\u001b[0m \u001b[0;34m=\u001b[0m \u001b[0mlineno\u001b[0m \u001b[0;34m-\u001b[0m \u001b[0;36m1\u001b[0m \u001b[0;34m-\u001b[0m \u001b[0mcontext\u001b[0m\u001b[0;34m//\u001b[0m\u001b[0;36m2\u001b[0m\u001b[0;34m\u001b[0m\u001b[0;34m\u001b[0m\u001b[0m\n\u001b[1;32m   1502\u001b[0m         \u001b[0;32mtry\u001b[0m\u001b[0;34m:\u001b[0m\u001b[0;34m\u001b[0m\u001b[0;34m\u001b[0m\u001b[0m\n\u001b[0;32m-> 1503\u001b[0;31m             \u001b[0mlines\u001b[0m\u001b[0;34m,\u001b[0m \u001b[0mlnum\u001b[0m \u001b[0;34m=\u001b[0m \u001b[0mfindsource\u001b[0m\u001b[0;34m(\u001b[0m\u001b[0mframe\u001b[0m\u001b[0;34m)\u001b[0m\u001b[0;34m\u001b[0m\u001b[0;34m\u001b[0m\u001b[0m\n\u001b[0m\u001b[1;32m   1504\u001b[0m         \u001b[0;32mexcept\u001b[0m \u001b[0mOSError\u001b[0m\u001b[0;34m:\u001b[0m\u001b[0;34m\u001b[0m\u001b[0;34m\u001b[0m\u001b[0m\n\u001b[1;32m   1505\u001b[0m             \u001b[0mlines\u001b[0m \u001b[0;34m=\u001b[0m \u001b[0mindex\u001b[0m \u001b[0;34m=\u001b[0m \u001b[0;32mNone\u001b[0m\u001b[0;34m\u001b[0m\u001b[0;34m\u001b[0m\u001b[0m\n",
      "\u001b[0;32m~/anaconda3/envs/phd/lib/python3.9/inspect.py\u001b[0m in \u001b[0;36mfindsource\u001b[0;34m(object)\u001b[0m\n\u001b[1;32m    827\u001b[0m             \u001b[0;32mraise\u001b[0m \u001b[0mOSError\u001b[0m\u001b[0;34m(\u001b[0m\u001b[0;34m'source code not available'\u001b[0m\u001b[0;34m)\u001b[0m\u001b[0;34m\u001b[0m\u001b[0;34m\u001b[0m\u001b[0m\n\u001b[1;32m    828\u001b[0m \u001b[0;34m\u001b[0m\u001b[0m\n\u001b[0;32m--> 829\u001b[0;31m     \u001b[0mmodule\u001b[0m \u001b[0;34m=\u001b[0m \u001b[0mgetmodule\u001b[0m\u001b[0;34m(\u001b[0m\u001b[0mobject\u001b[0m\u001b[0;34m,\u001b[0m \u001b[0mfile\u001b[0m\u001b[0;34m)\u001b[0m\u001b[0;34m\u001b[0m\u001b[0;34m\u001b[0m\u001b[0m\n\u001b[0m\u001b[1;32m    830\u001b[0m     \u001b[0;32mif\u001b[0m \u001b[0mmodule\u001b[0m\u001b[0;34m:\u001b[0m\u001b[0;34m\u001b[0m\u001b[0;34m\u001b[0m\u001b[0m\n\u001b[1;32m    831\u001b[0m         \u001b[0mlines\u001b[0m \u001b[0;34m=\u001b[0m \u001b[0mlinecache\u001b[0m\u001b[0;34m.\u001b[0m\u001b[0mgetlines\u001b[0m\u001b[0;34m(\u001b[0m\u001b[0mfile\u001b[0m\u001b[0;34m,\u001b[0m \u001b[0mmodule\u001b[0m\u001b[0;34m.\u001b[0m\u001b[0m__dict__\u001b[0m\u001b[0;34m)\u001b[0m\u001b[0;34m\u001b[0m\u001b[0;34m\u001b[0m\u001b[0m\n",
      "\u001b[0;32m~/anaconda3/envs/phd/lib/python3.9/inspect.py\u001b[0m in \u001b[0;36mgetmodule\u001b[0;34m(object, _filename)\u001b[0m\n\u001b[1;32m    744\u001b[0m     \u001b[0;31m# Copy sys.modules in order to cope with changes while iterating\u001b[0m\u001b[0;34m\u001b[0m\u001b[0;34m\u001b[0m\u001b[0m\n\u001b[1;32m    745\u001b[0m     \u001b[0;32mfor\u001b[0m \u001b[0mmodname\u001b[0m\u001b[0;34m,\u001b[0m \u001b[0mmodule\u001b[0m \u001b[0;32min\u001b[0m \u001b[0msys\u001b[0m\u001b[0;34m.\u001b[0m\u001b[0mmodules\u001b[0m\u001b[0;34m.\u001b[0m\u001b[0mcopy\u001b[0m\u001b[0;34m(\u001b[0m\u001b[0;34m)\u001b[0m\u001b[0;34m.\u001b[0m\u001b[0mitems\u001b[0m\u001b[0;34m(\u001b[0m\u001b[0;34m)\u001b[0m\u001b[0;34m:\u001b[0m\u001b[0;34m\u001b[0m\u001b[0;34m\u001b[0m\u001b[0m\n\u001b[0;32m--> 746\u001b[0;31m         \u001b[0;32mif\u001b[0m \u001b[0mismodule\u001b[0m\u001b[0;34m(\u001b[0m\u001b[0mmodule\u001b[0m\u001b[0;34m)\u001b[0m \u001b[0;32mand\u001b[0m \u001b[0mhasattr\u001b[0m\u001b[0;34m(\u001b[0m\u001b[0mmodule\u001b[0m\u001b[0;34m,\u001b[0m \u001b[0;34m'__file__'\u001b[0m\u001b[0;34m)\u001b[0m\u001b[0;34m:\u001b[0m\u001b[0;34m\u001b[0m\u001b[0;34m\u001b[0m\u001b[0m\n\u001b[0m\u001b[1;32m    747\u001b[0m             \u001b[0mf\u001b[0m \u001b[0;34m=\u001b[0m \u001b[0mmodule\u001b[0m\u001b[0;34m.\u001b[0m\u001b[0m__file__\u001b[0m\u001b[0;34m\u001b[0m\u001b[0;34m\u001b[0m\u001b[0m\n\u001b[1;32m    748\u001b[0m             \u001b[0;32mif\u001b[0m \u001b[0mf\u001b[0m \u001b[0;34m==\u001b[0m \u001b[0m_filesbymodname\u001b[0m\u001b[0;34m.\u001b[0m\u001b[0mget\u001b[0m\u001b[0;34m(\u001b[0m\u001b[0mmodname\u001b[0m\u001b[0;34m,\u001b[0m \u001b[0;32mNone\u001b[0m\u001b[0;34m)\u001b[0m\u001b[0;34m:\u001b[0m\u001b[0;34m\u001b[0m\u001b[0;34m\u001b[0m\u001b[0m\n",
      "\u001b[0;32m~/anaconda3/envs/phd/lib/python3.9/inspect.py\u001b[0m in \u001b[0;36mismodule\u001b[0;34m(object)\u001b[0m\n\u001b[1;32m     69\u001b[0m         \u001b[0m__doc__\u001b[0m         \u001b[0mdocumentation\u001b[0m \u001b[0mstring\u001b[0m\u001b[0;34m\u001b[0m\u001b[0;34m\u001b[0m\u001b[0m\n\u001b[1;32m     70\u001b[0m         __file__        filename (missing for built-in modules)\"\"\"\n\u001b[0;32m---> 71\u001b[0;31m     \u001b[0;32mreturn\u001b[0m \u001b[0misinstance\u001b[0m\u001b[0;34m(\u001b[0m\u001b[0mobject\u001b[0m\u001b[0;34m,\u001b[0m \u001b[0mtypes\u001b[0m\u001b[0;34m.\u001b[0m\u001b[0mModuleType\u001b[0m\u001b[0;34m)\u001b[0m\u001b[0;34m\u001b[0m\u001b[0;34m\u001b[0m\u001b[0m\n\u001b[0m\u001b[1;32m     72\u001b[0m \u001b[0;34m\u001b[0m\u001b[0m\n\u001b[1;32m     73\u001b[0m \u001b[0;32mdef\u001b[0m \u001b[0misclass\u001b[0m\u001b[0;34m(\u001b[0m\u001b[0mobject\u001b[0m\u001b[0;34m)\u001b[0m\u001b[0;34m:\u001b[0m\u001b[0;34m\u001b[0m\u001b[0;34m\u001b[0m\u001b[0m\n",
      "\u001b[0;31mKeyboardInterrupt\u001b[0m: "
     ]
    }
   ],
   "source": [
    "%run -i './testing_phase_filtering_ranking_resource/approach.py'"
   ]
  },
  {
   "cell_type": "markdown",
   "id": "91212493",
   "metadata": {},
   "source": [
    "# 5. Baselines"
   ]
  },
  {
   "cell_type": "code",
   "execution_count": 6,
   "id": "5aba81fe",
   "metadata": {},
   "outputs": [
    {
     "name": "stdout",
     "output_type": "stream",
     "text": [
      "Treatment duration is: 30, for resource number: 1\n",
      "Release res: 1\n",
      "Do more stuff here\n",
      "\n",
      "\n",
      "==================, exp with: uncerb_proba_cate, dist: fixed, and resources: 10 ============\n",
      "\n",
      "Treatment duration is: 30, for resource number: 2\n",
      "Release res: 2\n",
      "Do more stuff here\n",
      "\n",
      "allocate res: 1\n",
      "Treat now\n",
      "\n",
      "Case is treated: Application_307362226, with gain: ['Application_307362226', 3.045234915680169, 6, 'O_Create Offer']\n",
      "\n",
      "Apply treatment\n",
      "resource number: 1 blocked\n",
      "strat timer for resource number: 1\n",
      "allocateRes func has returned\n",
      "\n",
      "\n",
      "=== case is treated before, Done==\n",
      "\n",
      "\n",
      "=== case is treated before, Done==\n",
      "\n",
      "\n",
      "=== case is treated before, Done==\n",
      "\n",
      "\n",
      "=== case is treated before, Done==\n",
      "\n",
      "\n",
      "=== case is treated before, Done==\n",
      "\n",
      "\n",
      "=== case is treated before, Done==\n",
      "\n",
      "\n",
      "=== case is treated before, Done==\n",
      "\n",
      "allocate res: 2\n",
      "Treat now\n",
      "\n",
      "Case is treated: Application_1858211642, with gain: ['Application_1858211642', 3.8895730849775667, 6, 'O_Create Offer']\n",
      "\n",
      "Apply treatment\n",
      "resource number: 2 blocked\n",
      "strat timer for resource number: 2\n",
      "allocateRes func has returned\n",
      "\n",
      "\n",
      "=== case is treated before, Done==\n",
      "\n",
      "\n",
      "=== case is treated before, Done==\n",
      "\n",
      "\n",
      "=== case is treated before, Done==\n",
      "\n",
      "\n",
      "=== case is treated before, Done==\n",
      "\n",
      "\n",
      "=== case is treated before, Done==\n",
      "\n",
      "\n",
      "=== case is treated before, Done==\n",
      "\n",
      "allocate res: 3\n",
      "Treat now\n",
      "\n",
      "Case is treated: Application_453987424, with gain: ['Application_453987424', 2.0675178427439356, 6, 'O_Create Offer']\n",
      "\n",
      "Apply treatment\n",
      "resource number: 3 blocked\n",
      "strat timer for resource number: 3\n",
      "allocateRes func has returned\n",
      "\n",
      "\n",
      "=== case is treated before, Done==\n",
      "\n",
      "\n",
      "=== case is treated before, Done==\n",
      "\n",
      "\n",
      "=== case is treated before, Done==\n",
      "\n",
      "\n",
      "=== case is treated before, Done==\n",
      "\n",
      "\n",
      "=== case is treated before, Done==\n",
      "\n",
      "\n",
      "=== case is treated before, Done==\n",
      "\n",
      "\n",
      "=== case is treated before, Done==\n",
      "\n",
      "\n",
      "=== case is treated before, Done==\n",
      "\n",
      "\n",
      "=== case is treated before, Done==\n",
      "\n",
      "\n",
      "=== case is treated before, Done==\n",
      "\n",
      "\n",
      "=== case is treated before, Done==\n",
      "\n",
      "allocate res: 4\n",
      "Treat now\n",
      "\n",
      "Case is treated: Application_2023800195, with gain: ['Application_2023800195', 8.142597301199267, 6, 'O_Create Offer']\n",
      "\n",
      "Apply treatment\n",
      "resource number: 4 blocked\n",
      "strat timer for resource number: 4\n",
      "allocateRes func has returned\n",
      "\n",
      "\n",
      "=== case is treated before, Done==\n",
      "\n",
      "\n",
      "=== case is treated before, Done==\n",
      "\n",
      "\n",
      "=== case is treated before, Done==\n",
      "\n",
      "\n",
      "=== case is treated before, Done==\n",
      "\n",
      "\n",
      "=== case is treated before, Done==\n",
      "\n",
      "\n",
      "=== case is treated before, Done==\n",
      "\n",
      "allocate res: 5\n",
      "Treat now\n",
      "\n",
      "Case is treated: Application_164778672, with gain: ['Application_164778672', 2.7639492042734553, 8, 'O_Sent (mail and online)']\n",
      "\n",
      "Apply treatment\n",
      "resource number: 5 blocked\n",
      "strat timer for resource number: 5\n",
      "allocateRes func has returned\n",
      "\n",
      "\n",
      "=== case is treated before, Done==\n",
      "\n",
      "\n",
      "=== case is treated before, Done==\n",
      "\n",
      "\n",
      "=== case is treated before, Done==\n",
      "\n",
      "\n",
      "=== case is treated before, Done==\n",
      "\n"
     ]
    },
    {
     "ename": "KeyboardInterrupt",
     "evalue": "",
     "output_type": "error",
     "traceback": [
      "\u001b[0;31m---------------------------------------------------------------------------\u001b[0m",
      "\u001b[0;31mKeyboardInterrupt\u001b[0m                         Traceback (most recent call last)",
      "\u001b[0;32m~/2ndyear_1stterm/BPM22_paper/code/baselines/baseline.py\u001b[0m in \u001b[0;36m<module>\u001b[0;34m\u001b[0m\n\u001b[1;32m    513\u001b[0m     \u001b[0;32melse\u001b[0m\u001b[0;34m:\u001b[0m\u001b[0;34m\u001b[0m\u001b[0;34m\u001b[0m\u001b[0m\n\u001b[1;32m    514\u001b[0m         \u001b[0mprint\u001b[0m\u001b[0;34m(\u001b[0m\u001b[0;34m\"\\n=== case is treated before, Done==\\n\"\u001b[0m\u001b[0;34m)\u001b[0m\u001b[0;34m\u001b[0m\u001b[0;34m\u001b[0m\u001b[0m\n\u001b[0;32m--> 515\u001b[0;31m         \u001b[0;32mif\u001b[0m \u001b[0mlen\u001b[0m\u001b[0;34m(\u001b[0m\u001b[0mtreated_cases\u001b[0m\u001b[0;34m.\u001b[0m\u001b[0mkeys\u001b[0m\u001b[0;34m(\u001b[0m\u001b[0;34m)\u001b[0m\u001b[0;34m)\u001b[0m\u001b[0;34m==\u001b[0m \u001b[0mlen\u001b[0m\u001b[0;34m(\u001b[0m\u001b[0mset\u001b[0m\u001b[0;34m(\u001b[0m\u001b[0mres\u001b[0m\u001b[0;34m[\u001b[0m\u001b[0;34m'case_id'\u001b[0m\u001b[0;34m]\u001b[0m\u001b[0;34m)\u001b[0m\u001b[0;34m)\u001b[0m\u001b[0;34m:\u001b[0m\u001b[0;34m\u001b[0m\u001b[0;34m\u001b[0m\u001b[0m\n\u001b[0m\u001b[1;32m    516\u001b[0m             \u001b[0;32mbreak\u001b[0m\u001b[0;34m\u001b[0m\u001b[0;34m\u001b[0m\u001b[0m\n\u001b[1;32m    517\u001b[0m \u001b[0;34m\u001b[0m\u001b[0m\n",
      "\u001b[0;31mKeyboardInterrupt\u001b[0m: "
     ]
    }
   ],
   "source": [
    "%run -i './baselines/baseline.py'"
   ]
  },
  {
   "cell_type": "code",
   "execution_count": null,
   "id": "f012b868",
   "metadata": {},
   "outputs": [],
   "source": []
  },
  {
   "cell_type": "code",
   "execution_count": null,
   "id": "9a70da5d",
   "metadata": {},
   "outputs": [],
   "source": []
  }
 ],
 "metadata": {
  "kernelspec": {
   "display_name": "Python 3 (ipykernel)",
   "language": "python",
   "name": "python3"
  },
  "language_info": {
   "codemirror_mode": {
    "name": "ipython",
    "version": 3
   },
   "file_extension": ".py",
   "mimetype": "text/x-python",
   "name": "python",
   "nbconvert_exporter": "python",
   "pygments_lexer": "ipython3",
   "version": "3.9.7"
  }
 },
 "nbformat": 4,
 "nbformat_minor": 5
}
