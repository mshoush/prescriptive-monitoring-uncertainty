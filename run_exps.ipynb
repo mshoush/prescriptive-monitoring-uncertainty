{
 "cells": [
  {
   "cell_type": "code",
   "execution_count": null,
   "id": "e3922e1a",
   "metadata": {},
   "outputs": [],
   "source": [
    "# !pip install Catboost\n",
    "# !pip install hyperopt"
   ]
  },
  {
   "cell_type": "code",
   "execution_count": null,
   "id": "12f5a146",
   "metadata": {
    "scrolled": true
   },
   "outputs": [],
   "source": [
    "#!pip install Catboost"
   ]
  },
  {
   "cell_type": "code",
   "execution_count": null,
   "id": "9b24342c",
   "metadata": {},
   "outputs": [],
   "source": [
    "%load_ext autoreload\n",
    "%autoreload 2\n",
    "%matplotlib inline\n",
    "import matplotlib.pyplot as plt\n",
    "import pandas as pd\n",
    "from sys import argv\n",
    "\n"
   ]
  },
  {
   "cell_type": "markdown",
   "id": "fcc865d2",
   "metadata": {},
   "source": [
    "# 1. prepare data"
   ]
  },
  {
   "cell_type": "code",
   "execution_count": null,
   "id": "8600e721",
   "metadata": {
    "scrolled": true
   },
   "outputs": [],
   "source": [
    "# prepare data\n",
    "%run -i './prepare_data/BPIC2017_preparation_outcom_and_treatment.py' \"./prepare_data/bpic2017.pkl\"\n"
   ]
  },
  {
   "cell_type": "markdown",
   "id": "cba78b07",
   "metadata": {},
   "source": [
    "# 2. Optimize predictive model params"
   ]
  },
  {
   "cell_type": "code",
   "execution_count": null,
   "id": "37b30e34",
   "metadata": {},
   "outputs": [],
   "source": [
    "!pwd"
   ]
  },
  {
   "cell_type": "code",
   "execution_count": null,
   "id": "fd6bf65c",
   "metadata": {
    "scrolled": true
   },
   "outputs": [],
   "source": [
    "%run -i './predictive_model/optimize_params_catboost.py' \"bpic2017_accepted\" \"params_dir_ctb\" 1"
   ]
  },
  {
   "cell_type": "markdown",
   "id": "9c2dba10",
   "metadata": {},
   "source": [
    "# 3. Get predictions and uncertainties"
   ]
  },
  {
   "cell_type": "code",
   "execution_count": null,
   "id": "ff1fbf85",
   "metadata": {},
   "outputs": [],
   "source": [
    "# params: {dataset name, optimized param dir, results dir, ensemble size}\n",
    "%run -i './predictive_model/get_catboost_pred_uncer.py' \"bpic2017_accepted\" \"params_dir_ctb\" \"results_dir_ctb\" 10"
   ]
  },
  {
   "cell_type": "markdown",
   "id": "6e515b57",
   "metadata": {},
   "source": [
    "# 4. Estimate causal effect (CATE)"
   ]
  },
  {
   "cell_type": "code",
   "execution_count": null,
   "id": "9e502329",
   "metadata": {
    "scrolled": true
   },
   "outputs": [],
   "source": [
    "#!pip install econml"
   ]
  },
  {
   "cell_type": "code",
   "execution_count": null,
   "id": "1765fd86",
   "metadata": {
    "scrolled": true
   },
   "outputs": [],
   "source": [
    "#!pip install numba==0.53"
   ]
  },
  {
   "cell_type": "code",
   "execution_count": null,
   "id": "6e36d763",
   "metadata": {
    "scrolled": true
   },
   "outputs": [],
   "source": [
    "# params: {dataset name, optimized param dir, results dir, ensemble size}\n",
    "%run -i './prescriptive_orf/orf.py' \"bpic2017_accepted\"  \"results_dir_orf\""
   ]
  },
  {
   "cell_type": "markdown",
   "id": "f0d4e462",
   "metadata": {},
   "source": [
    "# 5. Filtering_Ranking_ResourceAllocator"
   ]
  },
  {
   "cell_type": "code",
   "execution_count": null,
   "id": "b3d757f7",
   "metadata": {},
   "outputs": [],
   "source": [
    "%run -i './testing_phase_filtering_ranking_resource/approach.py'"
   ]
  },
  {
   "cell_type": "markdown",
   "id": "91212493",
   "metadata": {},
   "source": [
    "# 5. Baselines"
   ]
  },
  {
   "cell_type": "code",
   "execution_count": null,
   "id": "5aba81fe",
   "metadata": {},
   "outputs": [],
   "source": [
    "%run -i './baselines/baseline.py'"
   ]
  },
  {
   "cell_type": "code",
   "execution_count": null,
   "id": "f012b868",
   "metadata": {},
   "outputs": [],
   "source": []
  },
  {
   "cell_type": "code",
   "execution_count": null,
   "id": "9a70da5d",
   "metadata": {},
   "outputs": [],
   "source": []
  }
 ],
 "metadata": {
  "kernelspec": {
   "display_name": "Python 3 (ipykernel)",
   "language": "python",
   "name": "python3"
  },
  "language_info": {
   "codemirror_mode": {
    "name": "ipython",
    "version": 3
   },
   "file_extension": ".py",
   "mimetype": "text/x-python",
   "name": "python",
   "nbconvert_exporter": "python",
   "pygments_lexer": "ipython3",
   "version": "3.9.7"
  }
 },
 "nbformat": 4,
 "nbformat_minor": 5
}
